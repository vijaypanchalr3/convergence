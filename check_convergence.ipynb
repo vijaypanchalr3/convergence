{
  "nbformat": 4,
  "nbformat_minor": 0,
  "metadata": {
    "colab": {
      "name": "series2.ipynb",
      "provenance": [],
      "collapsed_sections": []
    },
    "kernelspec": {
      "name": "python3",
      "display_name": "Python 3"
    },
    "language_info": {
      "name": "python"
    }
  },
  "cells": [
    {
      "cell_type": "code",
      "metadata": {
        "colab": {
          "base_uri": "https://localhost:8080/"
        },
        "id": "MZF2g0qdp048",
        "outputId": "42343444-40db-4ef9-9878-d316d5f5fc53"
      },
      "source": [
        "import math\n",
        "import numpy as np\n",
        "\n",
        "\n",
        "\n",
        "# intervals for all series members,\n",
        "\n",
        "x = np.arange(1,11,1)\n",
        "xx = np.arange(1,101,1)\n",
        "xxx = np.arange(1,1001,1)\n",
        "xxxx = np.arange(1,10001,1)\n",
        "xxxxx = np.arange(1,100001,1)\n",
        "xxxxxx = np.arange(1,1000001,1)\n",
        "xxxxxxx = np.arange(1,10000001,1)\n",
        "\n",
        "# write a_n th term in 'i'\n",
        "series = lambda i:1/(i**2)\n",
        "def f(a):\n",
        "    w=[]\n",
        "    for i in a:\n",
        "        w.append(series(i))\n",
        "        length = len(w)\n",
        "    #print(w)\n",
        "    s = 0\n",
        "    for number in w:\n",
        "        s = s + number\n",
        "    return print('from 1 to',length,'integers series summation is ',s)\n",
        "# some series are very divergence, so start with less f's and delete f(xxxx),f(xxxxx), f(xxxxxx)\n",
        "f(x)\n",
        "f(xx)\n",
        "f(xxx)\n",
        "f(xxxx)\n",
        "f(xxxxx)\n",
        "f(xxxxxx)\n"
      ],
      "execution_count": 1,
      "outputs": [
        {
          "output_type": "stream",
          "text": [
            "from 1 to 10 integers series summation is  1.5497677311665408\n",
            "from 1 to 100 integers series summation is  1.6349839001848923\n",
            "from 1 to 1000 integers series summation is  1.6439345666815615\n",
            "from 1 to 10000 integers series summation is  1.6448340718480652\n",
            "from 1 to 100000 integers series summation is  1.6449240668982423\n",
            "from 1 to 1000000 integers series summation is  1.64493306684877\n"
          ],
          "name": "stdout"
        }
      ]
    }
  ]
}