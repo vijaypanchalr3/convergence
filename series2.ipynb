{
  "nbformat": 4,
  "nbformat_minor": 0,
  "metadata": {
    "colab": {
      "name": "series2.ipynb",
      "provenance": [],
      "collapsed_sections": [],
      "authorship_tag": "ABX9TyM0YlXqOxAcCne2WuspQByo",
      "include_colab_link": true
    },
    "kernelspec": {
      "name": "python3",
      "display_name": "Python 3"
    },
    "language_info": {
      "name": "python"
    }
  },
  "cells": [
    {
      "cell_type": "markdown",
      "metadata": {
        "id": "view-in-github",
        "colab_type": "text"
      },
      "source": [
        "<a href=\"https://colab.research.google.com/github/vijaypanchalr3/convergence/blob/main/series2.ipynb\" target=\"_parent\"><img src=\"https://colab.research.google.com/assets/colab-badge.svg\" alt=\"Open In Colab\"/></a>"
      ]
    },
    {
      "cell_type": "code",
      "metadata": {
        "colab": {
          "base_uri": "https://localhost:8080/"
        },
        "id": "MZF2g0qdp048",
        "outputId": "e7c1e048-1bcd-4d54-bb12-8e523ee118d3"
      },
      "source": [
        "import math\n",
        "import numpy as np\n",
        "\n",
        "\n",
        "\n",
        "# intervals for all series members,\n",
        "\n",
        "x = np.arange(2,11,1)\n",
        "xx = np.arange(2,101,1)\n",
        "xxx = np.arange(2,1001,1)\n",
        "xxxx = np.arange(2,10001,1)\n",
        "xxxxx = np.arange(2,100001,1)\n",
        "xxxxxx = np.arange(2,1000001,1)\n",
        "xxxxxxx = np.arange(2,10000001,1)\n",
        "#write series please a_n term in >>>a<<<\n",
        "\n",
        "series = lambda i:1/(i)\n",
        "def f(a):\n",
        "    w=[]\n",
        "    for i in a:\n",
        "        w.append(series(i))\n",
        "        length = len(w)\n",
        "    #print(w)\n",
        "    s = 0\n",
        "    for number in w:\n",
        "        s = s + number\n",
        "\n",
        "    return s\n",
        "\n",
        "first = f(x)\n",
        "second = f(xx)\n",
        "third = f(xxx)\n",
        "four = f(xxxx)\n",
        "five = f(xxxxx)\n",
        "six = f(xxxxxx)\n",
        "print(first,second,third,four,five,six)\n",
        "print(second-first,third-second,four-third,five-four,six-five)"
      ],
      "execution_count": 1,
      "outputs": [
        {
          "output_type": "stream",
          "text": [
            "1.928968253968254 4.18737751763962 6.485470860550342 8.787606036044384 11.09014612986337 13.392726722865024\n",
            "2.258409263671366 2.2980933429107226 2.3021351754940413 2.302540093818987 2.302580593001654\n"
          ],
          "name": "stdout"
        }
      ]
    }
  ]
}